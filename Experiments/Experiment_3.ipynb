{
 "cells": [
  {
   "cell_type": "code",
   "execution_count": 2,
   "id": "6ace7256",
   "metadata": {},
   "outputs": [
    {
     "data": {
      "text/html": [
       "<div>\n",
       "<style scoped>\n",
       "    .dataframe tbody tr th:only-of-type {\n",
       "        vertical-align: middle;\n",
       "    }\n",
       "\n",
       "    .dataframe tbody tr th {\n",
       "        vertical-align: top;\n",
       "    }\n",
       "\n",
       "    .dataframe thead th {\n",
       "        text-align: right;\n",
       "    }\n",
       "</style>\n",
       "<table border=\"1\" class=\"dataframe\">\n",
       "  <thead>\n",
       "    <tr style=\"text-align: right;\">\n",
       "      <th></th>\n",
       "      <th>x</th>\n",
       "      <th>y</th>\n",
       "      <th>sum</th>\n",
       "    </tr>\n",
       "  </thead>\n",
       "  <tbody>\n",
       "    <tr>\n",
       "      <th>0</th>\n",
       "      <td>1.0</td>\n",
       "      <td>1.0</td>\n",
       "      <td>2.0</td>\n",
       "    </tr>\n",
       "    <tr>\n",
       "      <th>1</th>\n",
       "      <td>4.0</td>\n",
       "      <td>4.0</td>\n",
       "      <td>8.0</td>\n",
       "    </tr>\n",
       "    <tr>\n",
       "      <th>2</th>\n",
       "      <td>6.0</td>\n",
       "      <td>6.0</td>\n",
       "      <td>12.0</td>\n",
       "    </tr>\n",
       "    <tr>\n",
       "      <th>3</th>\n",
       "      <td>10.0</td>\n",
       "      <td>10.0</td>\n",
       "      <td>20.0</td>\n",
       "    </tr>\n",
       "    <tr>\n",
       "      <th>4</th>\n",
       "      <td>30.0</td>\n",
       "      <td>30.0</td>\n",
       "      <td>60.0</td>\n",
       "    </tr>\n",
       "  </tbody>\n",
       "</table>\n",
       "</div>"
      ],
      "text/plain": [
       "      x     y   sum\n",
       "0   1.0   1.0   2.0\n",
       "1   4.0   4.0   8.0\n",
       "2   6.0   6.0  12.0\n",
       "3  10.0  10.0  20.0\n",
       "4  30.0  30.0  60.0"
      ]
     },
     "execution_count": 2,
     "metadata": {},
     "output_type": "execute_result"
    }
   ],
   "source": [
    "# Aim: Implement a Simple Linear model for Addition of Two Numbers \n",
    "#      Using Machine Learning (With GUI).\n",
    "# Binish Moosa\n",
    "# 232P001\n",
    "# 24\n",
    "import pandas as pd\n",
    "df = pd.read_csv(\"./add.csv\")\n",
    "df.head()"
   ]
  },
  {
   "cell_type": "code",
   "execution_count": 3,
   "id": "41cb2827",
   "metadata": {},
   "outputs": [
    {
     "data": {
      "text/plain": [
       "Text(0.5, 1.0, ' X Versus Sum By Binish Moosa')"
      ]
     },
     "execution_count": 3,
     "metadata": {},
     "output_type": "execute_result"
    },
    {
     "data": {
      "image/png": "[encoded data removed]",
      "text/plain": [
       "<Figure size 432x288 with 1 Axes>"
      ]
     },
     "metadata": {
      "needs_background": "light"
     },
     "output_type": "display_data"
    }
   ],
   "source": [
    "import matplotlib.pyplot as plt\n",
    "plt.scatter(df[\"x\"],df[\"sum\"])\n",
    "plt.title(\" X Versus Sum By Binish Moosa\")"
   ]
  },
  {
   "cell_type": "code",
   "execution_count": 4,
   "id": "7ebe0b25",
   "metadata": {},
   "outputs": [
    {
     "data": {
      "text/plain": [
       "Text(0.5, 1.0, ' Y Versus Sum By Binish moosa')"
      ]
     },
     "execution_count": 4,
     "metadata": {},
     "output_type": "execute_result"
    },
    {
     "data": {
      "image/png": "[encoded data removed]",
      "text/plain": [
       "<Figure size 432x288 with 1 Axes>"
      ]
     },
     "metadata": {
      "needs_background": "light"
     },
     "output_type": "display_data"
    }
   ],
   "source": [
    "import matplotlib.pyplot as plt\n",
    "plt.scatter(df[\"y\"],df[\"sum\"])\n",
    "plt.title(\" Y Versus Sum By Binish moosa\")"
   ]
  },
  {
   "cell_type": "code",
   "execution_count": 6,
   "id": "f836a1bb",
   "metadata": {},
   "outputs": [
    {
     "data": {
      "text/html": [
       "<div>\n",
       "<style scoped>\n",
       "    .dataframe tbody tr th:only-of-type {\n",
       "        vertical-align: middle;\n",
       "    }\n",
       "\n",
       "    .dataframe tbody tr th {\n",
       "        vertical-align: top;\n",
       "    }\n",
       "\n",
       "    .dataframe thead th {\n",
       "        text-align: right;\n",
       "    }\n",
       "</style>\n",
       "<table border=\"1\" class=\"dataframe\">\n",
       "  <thead>\n",
       "    <tr style=\"text-align: right;\">\n",
       "      <th></th>\n",
       "      <th>Actual</th>\n",
       "      <th>Predicted</th>\n",
       "    </tr>\n",
       "  </thead>\n",
       "  <tbody>\n",
       "    <tr>\n",
       "      <th>0</th>\n",
       "      <td>2.0</td>\n",
       "      <td>2.0</td>\n",
       "    </tr>\n",
       "    <tr>\n",
       "      <th>13</th>\n",
       "      <td>112.9</td>\n",
       "      <td>112.9</td>\n",
       "    </tr>\n",
       "    <tr>\n",
       "      <th>8</th>\n",
       "      <td>68.0</td>\n",
       "      <td>68.0</td>\n",
       "    </tr>\n",
       "    <tr>\n",
       "      <th>1</th>\n",
       "      <td>8.0</td>\n",
       "      <td>8.0</td>\n",
       "    </tr>\n",
       "    <tr>\n",
       "      <th>15</th>\n",
       "      <td>900.0</td>\n",
       "      <td>900.0</td>\n",
       "    </tr>\n",
       "  </tbody>\n",
       "</table>\n",
       "</div>"
      ],
      "text/plain": [
       "    Actual  Predicted\n",
       "0      2.0        2.0\n",
       "13   112.9      112.9\n",
       "8     68.0       68.0\n",
       "1      8.0        8.0\n",
       "15   900.0      900.0"
      ]
     },
     "execution_count": 6,
     "metadata": {},
     "output_type": "execute_result"
    }
   ],
   "source": [
    "from sklearn.linear_model import LinearRegression\n",
    "from sklearn.model_selection import train_test_split\n",
    "\n",
    "X_train, X_test, Y_train, Y_test = train_test_split(df[[\"x\", \"y\"]], df[\"sum\"], test_size=0.2, random_state=42)\n",
    "\n",
    "reg = LinearRegression()\n",
    "reg.fit(X_train, Y_train)\n",
    "\n",
    "Y_predict = reg.predict(X_test)\n",
    "\n",
    "result = pd.DataFrame({'Actual': Y_test, 'Predicted': Y_predict})\n",
    "result\n"
   ]
  },
  {
   "cell_type": "code",
   "execution_count": 8,
   "id": "3a7b5946",
   "metadata": {},
   "outputs": [],
   "source": []
  },
  {
   "cell_type": "code",
   "execution_count": 16,
   "id": "31eb556b",
   "metadata": {},
   "outputs": [],
   "source": []
  },
  {
   "cell_type": "code",
   "execution_count": 20,
   "id": "3e5ab5ed",
   "metadata": {},
   "outputs": [],
   "source": [
    "import tkinter as tk\n",
    "from tkinter import ttk, messagebox\n",
    "import pandas as pd\n",
    "from sklearn.linear_model import LinearRegression\n",
    "\n",
    "# Example: Pre-trained Linear Regression model (replace with your trained model)\n",
    "df = pd.DataFrame({\"x\": [1, 2, 3, 4, 5], \"y\": [2, 4, 6, 8, 10], \"sum\": [3, 6, 9, 12, 15]})\n",
    "X = df[[\"x\", \"y\"]]\n",
    "y = df[\"sum\"]\n",
    "reg = LinearRegression().fit(X, y)\n",
    "\n",
    "# Tkinter GUI\n",
    "root = tk.Tk()\n",
    "root.title(\"Add Two Numbers using Linear Regression - By Binish Moosa\")\n",
    "root.geometry('600x400')\n",
    "root.configure(bg=\"#FFC0CB\")  # Background pink\n",
    "\n",
    "# Title label\n",
    "title_label = tk.Label(\n",
    "    root, text=\"🧮 Predict Sum using Linear Regression 🧮\", \n",
    "    font=(\"Arial\", 18, \"bold\"), bg=\"#FFC0CB\", fg=\"#2c3e50\"\n",
    ")\n",
    "title_label.pack(pady=20)\n",
    "\n",
    "# Frame for inputs\n",
    "frame_inputs = tk.Frame(root, bg=\"#FFC0CB\")\n",
    "frame_inputs.pack(pady=10)\n",
    "\n",
    "label_x = tk.Label(frame_inputs, text=\"Enter X:\", font=(\"Arial\", 12), bg=\"#FFC0CB\")\n",
    "label_x.grid(row=0, column=0, padx=10, pady=5, sticky=\"e\")\n",
    "\n",
    "entry_x = ttk.Entry(frame_inputs, width=15)\n",
    "entry_x.grid(row=0, column=1, padx=10, pady=5)\n",
    "\n",
    "label_y = tk.Label(frame_inputs, text=\"Enter Y:\", font=(\"Arial\", 12), bg=\"#FFC0CB\")\n",
    "label_y.grid(row=1, column=0, padx=10, pady=5, sticky=\"e\")\n",
    "\n",
    "entry_y = ttk.Entry(frame_inputs, width=15)\n",
    "entry_y.grid(row=1, column=1, padx=10, pady=5)\n",
    "\n",
    "# Prediction function\n",
    "def predict_sum():\n",
    "    try:\n",
    "        x = float(entry_x.get())\n",
    "        y = float(entry_y.get())\n",
    "        input_df = pd.DataFrame({\"x\": [x], \"y\": [y]})\n",
    "        sum_prediction = reg.predict(input_df)\n",
    "        label_prediction.config(\n",
    "            text=f\"✨ Predicted Sum: {sum_prediction[0]:.2f}\",\n",
    "            fg=\"#006400\"  # Dark green text\n",
    "        )\n",
    "    except ValueError:\n",
    "        messagebox.showerror(\"Invalid Input\", \"❌ Please enter valid numbers.\")\n",
    "\n",
    "# Predict button\n",
    "button_predict = ttk.Button(root, text=\"Predict Sum\", command=predict_sum)\n",
    "button_predict.pack(pady=15)\n",
    "\n",
    "# Output label\n",
    "label_prediction = tk.Label(root, text=\"\", font=(\"Arial\", 14, \"bold\"), bg=\"#FFC0CB\")\n",
    "label_prediction.pack(pady=20)\n",
    "\n",
    "# Footer\n",
    "footer = tk.Label(\n",
    "    root, text=\"Created with ❤️ by Binish Moosa\", \n",
    "    font=(\"Arial\", 10), bg=\"#FFC0CB\", fg=\"#000000\"\n",
    ")\n",
    "footer.pack(side=\"bottom\", pady=10)\n",
    "\n",
    "root.mainloop()\n"
   ]
  },
  {
   "cell_type": "code",
   "execution_count": null,
   "id": "ae67a61d",
   "metadata": {},
   "outputs": [],
   "source": []
  },
  {
   "cell_type": "code",
   "execution_count": null,
   "id": "a1cdc33b",
   "metadata": {},
   "outputs": [],
   "source": []
  }
 ],
 "metadata": {
  "kernelspec": {
   "display_name": "Python 3 (ipykernel)",
   "language": "python",
   "name": "python3"
  },
  "language_info": {
   "codemirror_mode": {
    "name": "ipython",
    "version": 3
   },
   "file_extension": ".py",
   "mimetype": "text/x-python",
   "name": "python",
   "nbconvert_exporter": "python",
   "pygments_lexer": "ipython3",
   "version": "3.12.4"
  }
 },
 "nbformat": 4,
 "nbformat_minor": 5
}
