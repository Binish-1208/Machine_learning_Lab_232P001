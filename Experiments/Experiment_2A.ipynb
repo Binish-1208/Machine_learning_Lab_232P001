{
 "cells": [
  {
   "cell_type": "code",
   "execution_count": 124,
   "id": "cdaf3ac4",
   "metadata": {},
   "outputs": [],
   "source": [
    "# Aim: Build a Simple Linear model to predict a Package based on CGPA of a student, \n",
    "#      implementing your own class for fit and predict. (Use GUI)\n",
    "# Binish Moosa\n",
    "# 232P001\n",
    "# 24\n",
    "import matplotlib.pyplot as plt\n",
    "import pandas as pd\n",
    "import numpy as np\n",
    "import tkinter as tk\n",
    "from tkinter import ttk\n",
    "from matplotlib.backends.backend_tkagg import FigureCanvasTkAgg"
   ]
  },
  {
   "cell_type": "code",
   "execution_count": 125,
   "id": "c9acec37",
   "metadata": {},
   "outputs": [],
   "source": [
    "class MeraLR:\n",
    "    def __init__(self):\n",
    "        self.m = None  # slope\n",
    "        self.b = None  # intercept\n",
    "\n",
    "    def fit(self, X_train, y_train):\n",
    "        # Calculate slope (m) and intercept (b) for simple linear regression\n",
    "        \n",
    "        num = 0\n",
    "        den = 0\n",
    "        x_mean = X_train.mean()\n",
    "        y_mean = y_train.mean()\n",
    "\n",
    "        for i in range(X_train.shape[0]):\n",
    "            num += (X_train[i] - x_mean) * (y_train[i] - y_mean)\n",
    "            den += (X_train[i] - x_mean) ** 2\n",
    "\n",
    "        self.m = num / den\n",
    "        self.b = y_mean - (self.m * x_mean)\n",
    "        \n",
    "        print(f\"Slope (m): {self.m}\")\n",
    "        print(f\"Intercept (b): {self.b}\")\n",
    "\n",
    "    def predict(self, X_test):\n",
    "        print(f\"Predicting with X_test: {X_test}\")\n",
    "        return self.m * X_test + self.b\n"
   ]
  },
  {
   "cell_type": "code",
   "execution_count": 126,
   "id": "04d51542",
   "metadata": {},
   "outputs": [],
   "source": [
    "import numpy as np\n",
    "import pandas as pd"
   ]
  },
  {
   "cell_type": "code",
   "execution_count": 127,
   "id": "a76e1c3b",
   "metadata": {},
   "outputs": [],
   "source": [
    "df = pd.read_csv('placement.csv')"
   ]
  },
  {
   "cell_type": "code",
   "execution_count": 128,
   "id": "3f455640",
   "metadata": {},
   "outputs": [
    {
     "data": {
      "text/html": [
       "<div>\n",
       "<style scoped>\n",
       "    .dataframe tbody tr th:only-of-type {\n",
       "        vertical-align: middle;\n",
       "    }\n",
       "\n",
       "    .dataframe tbody tr th {\n",
       "        vertical-align: top;\n",
       "    }\n",
       "\n",
       "    .dataframe thead th {\n",
       "        text-align: right;\n",
       "    }\n",
       "</style>\n",
       "<table border=\"1\" class=\"dataframe\">\n",
       "  <thead>\n",
       "    <tr style=\"text-align: right;\">\n",
       "      <th></th>\n",
       "      <th>cgpa</th>\n",
       "      <th>package</th>\n",
       "    </tr>\n",
       "  </thead>\n",
       "  <tbody>\n",
       "    <tr>\n",
       "      <th>0</th>\n",
       "      <td>6.89</td>\n",
       "      <td>3.26</td>\n",
       "    </tr>\n",
       "    <tr>\n",
       "      <th>1</th>\n",
       "      <td>5.12</td>\n",
       "      <td>1.98</td>\n",
       "    </tr>\n",
       "    <tr>\n",
       "      <th>2</th>\n",
       "      <td>7.82</td>\n",
       "      <td>3.25</td>\n",
       "    </tr>\n",
       "    <tr>\n",
       "      <th>3</th>\n",
       "      <td>7.42</td>\n",
       "      <td>3.67</td>\n",
       "    </tr>\n",
       "    <tr>\n",
       "      <th>4</th>\n",
       "      <td>6.94</td>\n",
       "      <td>3.57</td>\n",
       "    </tr>\n",
       "  </tbody>\n",
       "</table>\n",
       "</div>"
      ],
      "text/plain": [
       "   cgpa  package\n",
       "0  6.89     3.26\n",
       "1  5.12     1.98\n",
       "2  7.82     3.25\n",
       "3  7.42     3.67\n",
       "4  6.94     3.57"
      ]
     },
     "execution_count": 128,
     "metadata": {},
     "output_type": "execute_result"
    }
   ],
   "source": [
    "df.head()"
   ]
  },
  {
   "cell_type": "code",
   "execution_count": 129,
   "id": "d97ac665",
   "metadata": {},
   "outputs": [],
   "source": [
    "X = df.iloc[:,0].values # all row 0th column\n",
    "y = df.iloc[:,1].values # all row 1st column"
   ]
  },
  {
   "cell_type": "code",
   "execution_count": 130,
   "id": "729e8947",
   "metadata": {},
   "outputs": [
    {
     "data": {
      "text/plain": [
       "array([6.89, 5.12, 7.82, 7.42, 6.94, 7.89, 6.73, 6.75, 6.09, 8.31, 5.32,\n",
       "       6.61, 8.94, 6.93, 7.73, 7.25, 6.84, 5.38, 6.94, 7.48, 7.28, 6.85,\n",
       "       6.14, 6.19, 6.53, 7.28, 8.31, 5.42, 5.94, 7.15, 7.36, 8.1 , 6.96,\n",
       "       6.35, 7.34, 6.87, 5.99, 5.9 , 8.62, 7.43, 9.38, 6.89, 5.95, 7.66,\n",
       "       5.09, 7.87, 6.07, 5.84, 8.63, 8.87, 9.58, 9.26, 8.37, 6.47, 6.86,\n",
       "       8.2 , 5.84, 6.6 , 6.92, 7.56, 5.61, 5.48, 6.34, 9.16, 7.36, 7.6 ,\n",
       "       5.11, 6.51, 7.56, 7.3 , 5.79, 7.47, 7.78, 8.44, 6.85, 6.97, 6.94,\n",
       "       8.99, 6.59, 7.18, 7.63, 6.1 , 5.58, 8.44, 4.26, 4.79, 7.61, 8.09,\n",
       "       4.73, 6.42, 7.11, 6.22, 7.9 , 6.79, 5.83, 6.63, 7.11, 5.98, 7.69,\n",
       "       6.61, 7.95, 6.71, 5.13, 7.05, 7.62, 6.66, 6.13, 6.33, 7.76, 7.77,\n",
       "       8.18, 5.42, 8.58, 6.94, 5.84, 8.35, 9.04, 7.12, 7.4 , 7.39, 5.23,\n",
       "       6.5 , 5.12, 5.1 , 6.06, 7.33, 5.91, 6.78, 7.93, 7.29, 6.68, 6.37,\n",
       "       5.84, 6.05, 7.2 , 6.1 , 5.64, 7.14, 7.91, 7.19, 7.91, 6.76, 6.93,\n",
       "       4.85, 6.17, 5.84, 6.07, 5.66, 7.57, 8.28, 6.3 , 6.12, 7.37, 7.94,\n",
       "       7.08, 6.98, 7.38, 6.47, 5.95, 8.71, 7.13, 7.3 , 5.53, 8.93, 9.06,\n",
       "       8.21, 8.6 , 8.13, 8.65, 9.31, 6.22, 8.01, 6.93, 6.75, 7.32, 7.04,\n",
       "       6.29, 7.09, 8.15, 7.14, 6.19, 8.22, 5.88, 7.28, 7.88, 6.31, 7.84,\n",
       "       6.26, 7.35, 8.11, 6.19, 7.28, 8.25, 4.57, 7.89, 6.93, 5.89, 7.21,\n",
       "       7.63, 6.22])"
      ]
     },
     "execution_count": 130,
     "metadata": {},
     "output_type": "execute_result"
    }
   ],
   "source": [
    "X"
   ]
  },
  {
   "cell_type": "code",
   "execution_count": 131,
   "id": "8ad3443a",
   "metadata": {},
   "outputs": [
    {
     "data": {
      "text/plain": [
       "array([3.26, 1.98, 3.25, 3.67, 3.57, 2.99, 2.6 , 2.48, 2.31, 3.51, 1.86,\n",
       "       2.6 , 3.65, 2.89, 3.42, 3.23, 2.35, 2.09, 2.98, 2.83, 3.16, 2.93,\n",
       "       2.3 , 2.48, 2.71, 3.65, 3.42, 2.16, 2.24, 3.49, 3.26, 3.89, 3.08,\n",
       "       2.73, 3.42, 2.87, 2.84, 2.43, 4.36, 3.33, 4.02, 2.7 , 2.54, 2.76,\n",
       "       1.86, 3.58, 2.26, 3.26, 4.09, 4.62, 4.43, 3.79, 4.11, 2.61, 3.09,\n",
       "       3.39, 2.74, 1.94, 3.09, 3.31, 2.19, 1.61, 2.09, 4.25, 2.92, 3.81,\n",
       "       1.63, 2.89, 2.99, 2.94, 2.35, 3.34, 3.62, 4.03, 3.44, 3.28, 3.15,\n",
       "       4.6 , 2.21, 3.  , 3.44, 2.2 , 2.17, 3.49, 1.53, 1.48, 2.77, 3.55,\n",
       "       1.48, 2.72, 2.66, 2.14, 4.  , 3.08, 2.42, 2.79, 2.61, 2.84, 3.83,\n",
       "       3.24, 4.14, 3.52, 1.37, 3.  , 3.74, 2.82, 2.19, 2.59, 3.54, 4.06,\n",
       "       3.76, 2.25, 4.1 , 2.37, 1.87, 4.21, 3.33, 2.99, 2.88, 2.65, 1.73,\n",
       "       3.02, 2.01, 2.3 , 2.31, 3.16, 2.6 , 3.11, 3.34, 3.12, 2.49, 2.01,\n",
       "       2.48, 2.58, 2.83, 2.6 , 2.1 , 3.13, 3.89, 2.4 , 3.15, 3.18, 3.04,\n",
       "       1.54, 2.42, 2.18, 2.46, 2.21, 3.4 , 3.67, 2.73, 2.76, 3.08, 3.99,\n",
       "       2.85, 3.09, 3.13, 2.7 , 3.04, 4.08, 2.93, 3.33, 2.55, 3.91, 3.82,\n",
       "       4.08, 3.98, 3.6 , 3.52, 4.37, 2.87, 3.76, 2.51, 2.56, 2.99, 3.5 ,\n",
       "       3.23, 3.64, 3.63, 3.03, 2.72, 3.89, 2.08, 2.72, 3.14, 3.18, 3.47,\n",
       "       2.44, 3.08, 4.06, 2.69, 3.48, 3.75, 1.94, 3.67, 2.46, 2.57, 3.24,\n",
       "       3.96, 2.33])"
      ]
     },
     "execution_count": 131,
     "metadata": {},
     "output_type": "execute_result"
    }
   ],
   "source": [
    "y"
   ]
  },
  {
   "cell_type": "code",
   "execution_count": 132,
   "id": "131c4c2b",
   "metadata": {},
   "outputs": [],
   "source": [
    "from sklearn.model_selection import train_test_split\n",
    "\n",
    "# Make sure your variables X and y are defined (features and target)\n",
    "X_train, X_test, y_train, y_test = train_test_split(X, y, test_size=0.2, random_state=42)\n"
   ]
  },
  {
   "cell_type": "code",
   "execution_count": 133,
   "id": "2551f545",
   "metadata": {},
   "outputs": [
    {
     "data": {
      "text/plain": [
       "(160,)"
      ]
     },
     "execution_count": 133,
     "metadata": {},
     "output_type": "execute_result"
    }
   ],
   "source": [
    "X_train.shape"
   ]
  },
  {
   "cell_type": "code",
   "execution_count": 134,
   "id": "a959c690",
   "metadata": {},
   "outputs": [],
   "source": [
    "lr = MeraLR()"
   ]
  },
  {
   "cell_type": "code",
   "execution_count": 135,
   "id": "e6d0aef3",
   "metadata": {},
   "outputs": [
    {
     "name": "stdout",
     "output_type": "stream",
     "text": [
      "Slope (m): 0.5742564727019197\n",
      "Intercept (b): -1.0270069374542108\n"
     ]
    }
   ],
   "source": [
    "lr.fit(X_train,y_train)"
   ]
  },
  {
   "cell_type": "code",
   "execution_count": 136,
   "id": "d35f1341",
   "metadata": {},
   "outputs": [
    {
     "data": {
      "text/plain": [
       "160"
      ]
     },
     "execution_count": 136,
     "metadata": {},
     "output_type": "execute_result"
    }
   ],
   "source": [
    "X_train.shape[0]"
   ]
  },
  {
   "cell_type": "code",
   "execution_count": 137,
   "id": "dd271fe9",
   "metadata": {},
   "outputs": [
    {
     "data": {
      "text/plain": [
       "7.18"
      ]
     },
     "execution_count": 137,
     "metadata": {},
     "output_type": "execute_result"
    }
   ],
   "source": [
    "X_train[0]"
   ]
  },
  {
   "cell_type": "code",
   "execution_count": 138,
   "id": "a1973c65",
   "metadata": {},
   "outputs": [
    {
     "data": {
      "text/plain": [
       "7.005375000000001"
      ]
     },
     "execution_count": 138,
     "metadata": {},
     "output_type": "execute_result"
    }
   ],
   "source": [
    "X_train.mean()"
   ]
  },
  {
   "cell_type": "code",
   "execution_count": 139,
   "id": "1a66b3b0",
   "metadata": {},
   "outputs": [
    {
     "data": {
      "text/plain": [
       "6.63"
      ]
     },
     "execution_count": 139,
     "metadata": {},
     "output_type": "execute_result"
    }
   ],
   "source": [
    "X_test[0]"
   ]
  },
  {
   "cell_type": "code",
   "execution_count": 140,
   "id": "4ec32706",
   "metadata": {},
   "outputs": [
    {
     "name": "stdout",
     "output_type": "stream",
     "text": [
      "Predicting with X_test: 6.63\n",
      "2.7803134765595168\n"
     ]
    }
   ],
   "source": [
    "print(lr.predict(X_test[0]))"
   ]
  },
  {
   "cell_type": "code",
   "execution_count": 141,
   "id": "507dcea5",
   "metadata": {},
   "outputs": [
    {
     "name": "stdout",
     "output_type": "stream",
     "text": [
      "Predicting with X_test: [7.18 7.21 8.62 6.53 5.12 6.93 7.15 7.48 4.85 7.61 5.84 6.75 7.89 5.91\n",
      " 7.12 8.44 7.91 7.69 6.93 7.11 9.31 5.98 8.1  8.94 6.87 7.39 5.95 8.11\n",
      " 7.11 5.64 9.26 6.78 5.53 6.89 7.4  6.94 8.31 7.19 7.95 5.42 7.82 8.99\n",
      " 6.07 6.26 7.28 4.79 7.3  5.99 6.19 5.48 6.14 6.76 6.71 6.35 6.61 7.89\n",
      " 8.71 6.73 5.42 5.23 6.94 6.96 6.93 5.84 7.77 6.17 5.32 6.34 8.58 6.07\n",
      " 8.6  6.89 7.63 7.94 5.79 5.1  7.36 5.09 8.93 5.94 9.38 7.76 6.98 7.38\n",
      " 7.28 6.19 7.88 5.66 6.1  7.43 8.65 5.84 5.83 7.08 7.66 7.91 7.42 6.66\n",
      " 6.47 6.05 6.19 8.15 6.31 8.87 7.63 7.34 6.75 8.18 6.22 8.44 6.29 8.22\n",
      " 6.42 6.09 6.93 7.56 8.01 6.37 5.38 7.78 7.04 7.2  8.13 7.28 9.16 6.86\n",
      " 6.33 9.58 5.89 6.92 8.63 4.73 6.85 6.6  7.13 8.25 7.29 5.9  6.47 4.57\n",
      " 5.12 8.37 8.28 6.68 6.12 7.05 6.61 9.04 8.09 6.85 6.5  6.22 7.28 7.35\n",
      " 7.47 6.13 7.73 7.9  7.14 5.13]\n"
     ]
    },
    {
     "data": {
      "text/plain": [
       "Text(0, 0.5, 'Package(in LPA)')"
      ]
     },
     "execution_count": 141,
     "metadata": {},
     "output_type": "execute_result"
    },
    {
     "data": {
      "image/png": "[encoded data removed]",
      "text/plain": [
       "<Figure size 360x360 with 1 Axes>"
      ]
     },
     "metadata": {
      "needs_background": "light"
     },
     "output_type": "display_data"
    }
   ],
   "source": [
    "fig = plt.figure(figsize=(5, 5))\n",
    "plt.scatter(df['cgpa'], df['package'])\n",
    "plt.plot(X_train, lr.predict(X_train), color='green')\n",
    "plt.xlabel('CGPA')\n",
    "plt.ylabel('Package(in LPA)')"
   ]
  },
  {
   "cell_type": "code",
   "execution_count": null,
   "id": "8c65ffe8",
   "metadata": {},
   "outputs": [],
   "source": [
    "import tkinter as tk\n",
    "from tkinter import font\n",
    "from matplotlib.figure import Figure\n",
    "from matplotlib.backends.backend_tkagg import FigureCanvasTkAgg\n",
    "\n",
    "# Main window\n",
    "root = tk.Tk()\n",
    "root.title(\"🌸 CGPA to Package Predictor 🌸\")\n",
    "root.geometry(\"750x450\")\n",
    "root.configure(bg=\"#ffe6f0\")  # Light pink background\n",
    "\n",
    "# Fonts\n",
    "title_font = font.Font(family=\"Comic Sans MS\", size=20, weight=\"bold\")\n",
    "label_font = font.Font(family=\"Arial\", size=13, weight=\"bold\")\n",
    "button_font = font.Font(family=\"Arial\", size=13, weight=\"bold\")\n",
    "result_font = font.Font(family=\"Arial\", size=16, weight=\"bold\")\n",
    "\n",
    "# Left frame with plot\n",
    "frame_left = tk.Frame(root, bg=\"#ffd6eb\", bd=3, relief=tk.RIDGE)\n",
    "frame_left.pack(side=tk.LEFT, fill=tk.BOTH, expand=True, padx=20, pady=20)\n",
    "\n",
    "fig = Figure(figsize=(5, 4), dpi=100)\n",
    "ax = fig.add_subplot(111)\n",
    "ax.plot([1, 2, 3, 4], [10, 20, 25, 30], marker='o', linestyle='-', color='#ff5c8d')\n",
    "ax.set_title('CGPA vs Package Trend', fontsize=16, fontweight='bold', color=\"#ff4081\")\n",
    "ax.tick_params(axis='x', colors='#ff80ab')\n",
    "ax.tick_params(axis='y', colors='#ff80ab')\n",
    "ax.spines['bottom'].set_color('#ff80ab')\n",
    "ax.spines['left'].set_color('#ff80ab')\n",
    "ax.grid(True, linestyle='--', alpha=0.5, color='#ffb6c1')\n",
    "\n",
    "canvas = FigureCanvasTkAgg(fig, master=frame_left)\n",
    "canvas.draw()\n",
    "canvas.get_tk_widget().pack(fill=tk.BOTH, expand=True)\n",
    "\n",
    "# Right frame for inputs and output\n",
    "frame_right = tk.Frame(root, bg=\"#ffe6f0\")\n",
    "frame_right.pack(side=tk.LEFT, fill=tk.Y, padx=25, pady=25)\n",
    "\n",
    "# Heading\n",
    "heading = tk.Label(frame_right, text=\"💖 Predict Package from CGPA 💖\", \n",
    "                   bg=\"#ffe6f0\", fg=\"#ff4081\", font=title_font)\n",
    "heading.grid(row=0, column=0, pady=(0, 30))\n",
    "\n",
    "# CGPA Label and Entry\n",
    "label_cgpa = tk.Label(frame_right, text=\"Enter your CGPA:\", \n",
    "                      bg=\"#ffe6f0\", fg=\"#ff5c8d\", font=label_font)\n",
    "label_cgpa.grid(row=1, column=0, sticky=\"w\", pady=(0, 8))\n",
    "\n",
    "entry_cgpa = tk.Entry(frame_right, font=label_font, width=18, bd=3, \n",
    "                      relief=tk.GROOVE, fg=\"#212121\", bg=\"#fff0f6\")\n",
    "entry_cgpa.grid(row=2, column=0, pady=(0, 20))\n",
    "\n",
    "# Predict button\n",
    "btn_predict = tk.Button(\n",
    "    frame_right,\n",
    "    text=\"✨ Predict ✨\",\n",
    "    command=lambda: predict_package(),\n",
    "    font=button_font,\n",
    "    bg=\"#ff80ab\",\n",
    "    fg=\"white\",\n",
    "    activebackground=\"#ff4081\",\n",
    "    activeforeground=\"white\",\n",
    "    bd=0,\n",
    "    padx=15,\n",
    "    pady=8,\n",
    "    cursor=\"hand2\"\n",
    ")\n",
    "btn_predict.grid(row=3, column=0)\n",
    "\n",
    "# Result label\n",
    "label_predicted = tk.Label(frame_right, text=\"Predicted Package:\", \n",
    "                           bg=\"#ffe6f0\", fg=\"#d81b60\", font=result_font)\n",
    "label_predicted.grid(row=4, column=0, pady=(35, 10))\n",
    "\n",
    "# Prediction function\n",
    "def predict_package():\n",
    "    try:\n",
    "        cgpa = float(entry_cgpa.get())\n",
    "        if not (0 <= cgpa <= 10):\n",
    "            label_predicted.config(text=\"⚠️ CGPA must be between 0 and 10!\", fg=\"#e57373\")\n",
    "            return\n",
    "        predicted = cgpa * 1.5\n",
    "        label_predicted.config(text=f\"💼 Predicted Package: ₹{predicted:.2f} Lakhs\", fg=\"#43a047\")\n",
    "    except ValueError:\n",
    "        label_predicted.config(text=\"❌ Please enter a valid number!\", fg=\"#ef5350\")\n",
    "\n",
    "root.mainloop()\n",
    "\n"
   ]
  },
  {
   "cell_type": "code",
   "execution_count": null,
   "id": "c4d1c24b",
   "metadata": {},
   "outputs": [],
   "source": []
  }
 ],
 "metadata": {
  "kernelspec": {
   "display_name": "Python 3 (ipykernel)",
   "language": "python",
   "name": "python3"
  },
  "language_info": {
   "codemirror_mode": {
    "name": "ipython",
    "version": 3
   },
   "file_extension": ".py",
   "mimetype": "text/x-python",
   "name": "python",
   "nbconvert_exporter": "python",
   "pygments_lexer": "ipython3",
   "version": "3.12.4"
  }
 },
 "nbformat": 4,
 "nbformat_minor": 5
}
